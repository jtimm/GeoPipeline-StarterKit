{
 "cells": [
  {
   "cell_type": "code",
   "execution_count": null,
   "id": "f10ff6d7-f3e4-4dc7-885b-598ce7e5af8a",
   "metadata": {},
   "outputs": [],
   "source": [
    "import pandas as pd\n",
    "\n",
    "# List of file paths\n",
    "file_paths = [\n",
    "    'input/bc-hydro-net-actual-flow/HourlyTielineData2015.xls',\n",
    "    'input/bc-hydro-net-actual-flow/HourlyTielineData2016.xls',\n",
    "    'input/bc-hydro-net-actual-flow/HourlyTielineData2017.xls',\n",
    "    'input/bc-hydro-net-actual-flow/HourlyTielineData2018.xls',\n",
    "    'input/bc-hydro-net-actual-flow/HourlyTielineData2019.xls',\n",
    "    'input/bc-hydro-net-actual-flow/HourlyTielineData2020.xls',\n",
    "    'input/bc-hydro-net-actual-flow/HourlyTielineData2021.xls',\n",
    "    'input/bc-hydro-net-actual-flow/HourlyTielineData2022.xls'\n",
    "]\n",
    "\n",
    "# Combine all Excel files into one DataFrame\n",
    "df_list = [pd.read_excel(fp) for fp in file_paths]\n",
    "combined_df = pd.concat(df_list, ignore_index=True)\n",
    "\n",
    "# Now you have a single DataFrame 'combined_df' with all your data\n"
   ]
  }
 ],
 "metadata": {
  "kernelspec": {
   "display_name": "Python 3 (ipykernel)",
   "language": "python",
   "name": "python3"
  },
  "language_info": {
   "codemirror_mode": {
    "name": "ipython",
    "version": 3
   },
   "file_extension": ".py",
   "mimetype": "text/x-python",
   "name": "python",
   "nbconvert_exporter": "python",
   "pygments_lexer": "ipython3",
   "version": "3.12.1"
  }
 },
 "nbformat": 4,
 "nbformat_minor": 5
}
