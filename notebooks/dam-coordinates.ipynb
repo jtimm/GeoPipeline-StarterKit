{
 "cells": [
  {
   "cell_type": "code",
   "execution_count": 1,
   "id": "254e4627-e5f2-4237-a2f9-c74aa01f63a6",
   "metadata": {},
   "outputs": [],
   "source": [
    "import pandas as pd\n",
    "import math\n"
   ]
  },
  {
   "cell_type": "code",
   "execution_count": 2,
   "id": "5dc16533-2f5a-47bd-80e9-98cd6e9ac8b8",
   "metadata": {},
   "outputs": [],
   "source": [
    "# Read the CSV file into a DataFrame\n",
    "dams_df = pd.read_csv('../input/bc-hydro-dam-coordinates/bc-hydro-dams-as-of-2024-01-01.csv')\n",
    "\n",
    "# Dams bounding box buffer in kilometers\n",
    "buffer_km = 100\n"
   ]
  },
  {
   "cell_type": "code",
   "execution_count": 3,
   "id": "39edc3c7-5d5c-4646-99ae-5508789d8b46",
   "metadata": {},
   "outputs": [
    {
     "name": "stdout",
     "output_type": "stream",
     "text": [
      "Bounding Box with 100km buffer: [-131.206, 47.576, -113.633, 56.917]\n"
     ]
    }
   ],
   "source": [
    "# Function to convert DMS to DD\n",
    "def dms_to_dd(dms_str):\n",
    "    parts = dms_str.split('°')\n",
    "    degrees = float(parts[0])\n",
    "    minutes, seconds_direction = parts[1].split('′')\n",
    "    seconds, direction = seconds_direction.split('″')\n",
    "    dd = float(degrees) + float(minutes) / 60 + float(seconds) / 3600\n",
    "    if direction == 'S' or direction == 'W':\n",
    "        dd *= -1\n",
    "    return dd\n",
    "\n",
    "# Function to calculate the buffer in degrees from kilometers\n",
    "def buffer_in_degrees(lat, km):\n",
    "    # One degree of latitude is approximately 111 km\n",
    "    buffer_lat = km / 111\n",
    "    \n",
    "    # Calculate the buffer in degrees for longitude\n",
    "    buffer_lon = km / (111 * math.cos(math.radians(lat)))\n",
    "    \n",
    "    return buffer_lat, buffer_lon\n",
    "\n",
    "# Convert the 'Location' column to decimal degrees\n",
    "dams_df['Latitude'], dams_df['Longitude'] = zip(*dams_df['Location'].apply(lambda loc: [dms_to_dd(part) for part in loc.split()]))\n",
    "\n",
    "# Find the extreme coordinates\n",
    "min_lat, max_lat = dams_df['Latitude'].min(), dams_df['Latitude'].max()\n",
    "min_lon, max_lon = dams_df['Longitude'].min(), dams_df['Longitude'].max()\n",
    "\n",
    "# Calculate the buffer in degrees\n",
    "buffer_lat, buffer_lon  = buffer_in_degrees((min_lat + max_lat) / 2, buffer_km)\n",
    "\n",
    "# Apply the buffer\n",
    "min_lat -= buffer_lat\n",
    "min_lon -= buffer_lon\n",
    "max_lat += buffer_lat\n",
    "max_lon += buffer_lon\n",
    "\n",
    "# The resulting bounding box\n",
    "# Note that the Earthdata (GES DISC) dataset download form requires a precision of 3 decimal places and this particular ordering\n",
    "# when selecting a subset of the data to be download.\n",
    "bounding_box = [round(min_lon, 3), round(min_lat, 3), round(max_lon, 3), round(max_lat, 3)]\n",
    "print(f\"Bounding Box with {buffer_km}km buffer: {bounding_box}\")"
   ]
  },
  {
   "cell_type": "code",
   "execution_count": null,
   "id": "66328ef6-4852-41f6-9d91-4c85e98c39c5",
   "metadata": {},
   "outputs": [],
   "source": []
  }
 ],
 "metadata": {
  "kernelspec": {
   "display_name": "Python 3 (ipykernel)",
   "language": "python",
   "name": "python3"
  },
  "language_info": {
   "codemirror_mode": {
    "name": "ipython",
    "version": 3
   },
   "file_extension": ".py",
   "mimetype": "text/x-python",
   "name": "python",
   "nbconvert_exporter": "python",
   "pygments_lexer": "ipython3",
   "version": "3.12.1"
  }
 },
 "nbformat": 4,
 "nbformat_minor": 5
}
